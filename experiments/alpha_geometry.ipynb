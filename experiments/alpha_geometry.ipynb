{
 "cells": [
  {
   "cell_type": "markdown",
   "id": "3a43d1d0",
   "metadata": {},
   "source": [
    "# alpha_geometry.ipynb"
   ]
  },
  {
   "cell_type": "code",
   "execution_count": null,
   "id": "41901d4f",
   "metadata": {},
   "outputs": [],
   "source": [
    "import torch\n",
    "import numpy as np\n",
    "import matplotlib.pyplot as plt\n",
    "from models.topo_lstm import TopoAwareLSTM\n",
    "\n",
    "np.random.seed(0)\n",
    "time_series = np.sin(np.linspace(0, 8 * np.pi, 100)) + np.random.normal(0, 0.3, 100)\n",
    "persistence_input = np.random.rand(128)\n",
    "\n",
    "x_tensor = torch.tensor(time_series, dtype=torch.float32).unsqueeze(0).unsqueeze(-1)  # shape: (1, 100, 1)\n",
    "p_tensor = torch.tensor(persistence_input, dtype=torch.float32)\n",
    "\n",
    "model = TopoAwareLSTM(input_size=1, hidden_size=128)\n",
    "with torch.no_grad():\n",
    "    output = model(x_tensor, p_tensor)\n",
    "\n",
    "alpha_surface = output.squeeze(0).numpy()\n",
    "\n",
    "plt.figure(figsize=(12, 4))\n",
    "plt.plot(alpha_surface, linewidth=2, color='darkviolet')\n",
    "plt.title(\"Alpha Surface Inferred by TopoLSTM\")\n",
    "plt.xlabel(\"Time Step\")\n",
    "plt.ylabel(\"Activation\")\n",
    "plt.grid(True)\n",
    "plt.show()\n"
   ]
  }
 ],
 "metadata": {
  "language_info": {
   "name": "python"
  }
 },
 "nbformat": 4,
 "nbformat_minor": 5
}
