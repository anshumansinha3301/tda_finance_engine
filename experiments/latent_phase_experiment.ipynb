{
 "cells": [
  {
   "cell_type": "markdown",
   "id": "e8c64469",
   "metadata": {},
   "source": [
    "# latent_phase_experiment.ipynb"
   ]
  },
  {
   "cell_type": "code",
   "execution_count": null,
   "id": "77c58b5c",
   "metadata": {},
   "outputs": [],
   "source": [
    "import numpy as np\n",
    "import matplotlib.pyplot as plt\n",
    "from data.pipeline import preprocess_market_data\n",
    "from data.transforms import wavelet_transform\n",
    "from core.persistent_homology import compute_persistence_diagram\n",
    "from gudhi import plot_persistence_diagram\n",
    "\n",
    "\n",
    "np.random.seed(42)\n",
    "data = np.cumsum(np.random.randn(300)) + np.sin(np.linspace(0, 20, 300))\n",
    "\n",
    "\n",
    "processed = preprocess_market_data(data)\n",
    "wavelet_features = wavelet_transform(processed)\n",
    "\n",
    "\n",
    "diagram = compute_persistence_diagram(wavelet_features, max_dim=1, epsilon=0.8)\n",
    "\n",
    "\n",
    "print(\"Persistence Diagram:\")\n",
    "plot_persistence_diagram(diagram)\n",
    "plt.title(\"Persistent Homology of Wavelet-Transformed Series\")\n",
    "plt.grid(True)\n",
    "plt.show()\n"
   ]
  }
 ],
 "metadata": {
  "language_info": {
   "name": "python"
  }
 },
 "nbformat": 4,
 "nbformat_minor": 5
}
